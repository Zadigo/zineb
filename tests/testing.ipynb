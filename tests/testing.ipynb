{
 "metadata": {
  "language_info": {
   "codemirror_mode": {
    "name": "ipython",
    "version": 3
   },
   "file_extension": ".py",
   "mimetype": "text/x-python",
   "name": "python",
   "nbconvert_exporter": "python",
   "pygments_lexer": "ipython3",
   "version": "3.9.1-final"
  },
  "orig_nbformat": 2,
  "kernelspec": {
   "name": "python3",
   "display_name": "Python 3",
   "language": "python"
  }
 },
 "nbformat": 4,
 "nbformat_minor": 2,
 "cells": [
  {
   "cell_type": "code",
   "execution_count": 1,
   "metadata": {},
   "outputs": [
    {
     "output_type": "stream",
     "name": "stderr",
     "text": [
      "Loaded project settings...\n"
     ]
    }
   ],
   "source": [
    "from zineb.checks.core import checks_registry\n",
    "from zineb.checks.base import check_domains_validity\n",
    "from zineb.settings import settings\n"
   ]
  },
  {
   "cell_type": "code",
   "execution_count": 2,
   "metadata": {},
   "outputs": [
    {
     "output_type": "execute_result",
     "data": {
      "text/plain": [
       "deque([<function zineb.checks.base.check_middlewares(project_settings)>,\n",
       "       <function zineb.checks.base.check_default_request_headers(project_settings)>,\n",
       "       <function zineb.checks.base.check_proxies_valid(project_settings)>,\n",
       "       <function zineb.checks.base.check_domains_validity(project_settings)>])"
      ]
     },
     "metadata": {},
     "execution_count": 2
    }
   ],
   "source": [
    "checks_registry._default_settings = settings\n",
    "checks_registry._checks"
   ]
  },
  {
   "cell_type": "code",
   "execution_count": 3,
   "metadata": {},
   "outputs": [],
   "source": [
    "checks_registry.run()"
   ]
  },
  {
   "cell_type": "code",
   "execution_count": 4,
   "metadata": {},
   "outputs": [
    {
     "output_type": "execute_result",
     "data": {
      "text/plain": [
       "[]"
      ]
     },
     "metadata": {},
     "execution_count": 4
    }
   ],
   "source": [
    "checks_registry._errors"
   ]
  },
  {
   "cell_type": "code",
   "execution_count": null,
   "metadata": {},
   "outputs": [],
   "source": []
  }
 ]
}