{
 "metadata": {
  "language_info": {
   "codemirror_mode": {
    "name": "ipython",
    "version": 3
   },
   "file_extension": ".py",
   "mimetype": "text/x-python",
   "name": "python",
   "nbconvert_exporter": "python",
   "pygments_lexer": "ipython3",
   "version": "3.9.1-final"
  },
  "orig_nbformat": 2,
  "kernelspec": {
   "name": "python391jvsc74a57bd0067cb8d266241ed2d5a7605d38a6c52756d68e549b16125f60af993db4e342af",
   "display_name": "Python 3.9.1 64-bit"
  }
 },
 "nbformat": 4,
 "nbformat_minor": 2,
 "cells": [
  {
   "cell_type": "code",
   "execution_count": 1,
   "metadata": {},
   "outputs": [],
   "source": [
    "from zineb.http.request import HTTPRequest\n",
    "from zineb.extractors.base import MultiTablesExtractor, TableExtractor\n"
   ]
  },
  {
   "cell_type": "code",
   "execution_count": 2,
   "metadata": {},
   "outputs": [
    {
     "output_type": "stream",
     "name": "stderr",
     "text": [
      "16-04-2021 23:54 - [Zineb] Sent request for http://www.fivb.org/EN/volleyball/competitions/WorldGrandPrix/2009/Team_Roster.asp?Tourn=WGP2009&Team=BRA\n"
     ]
    }
   ],
   "source": [
    "request = HTTPRequest('http://www.fivb.org/EN/volleyball/competitions/WorldGrandPrix/2009/Team_Roster.asp?Tourn=WGP2009&Team=BRA')\n",
    "request._send()"
   ]
  },
  {
   "cell_type": "code",
   "execution_count": 3,
   "metadata": {},
   "outputs": [],
   "source": [
    "m = MultiTablesExtractor(has_headers=True, filter_empty_rows=True)\n",
    "m.resolve(request.html_response)"
   ]
  },
  {
   "cell_type": "code",
   "execution_count": 7,
   "metadata": {},
   "outputs": [
    {
     "output_type": "execute_result",
     "data": {
      "text/plain": [
       "[['', '', ''],\n",
       " ['Team managerJosÃ\\x83Â© Elias de ProenÃ\\x83Â§aHead coach JosÃ\\x83Â© Roberto Lages GuimarÃ\\x83Â£esAssistant coachPaulo do Rego Barros JuniorDoctorJulio Cesar Carvalho NardelliTherapist / trainerDaniel Hideki KanJournalist'],\n",
       " ['Team manager', 'JosÃ\\x83Â© Elias de ProenÃ\\x83Â§a'],\n",
       " ['Head coach', 'JosÃ\\x83Â© Roberto Lages GuimarÃ\\x83Â£es'],\n",
       " ['Assistant coach', 'Paulo do Rego Barros Junior'],\n",
       " ['Doctor', 'Julio Cesar Carvalho Nardelli'],\n",
       " ['Therapist / trainer', 'Daniel Hideki Kan'],\n",
       " ['Journalist', '']]"
      ]
     },
     "metadata": {},
     "execution_count": 7
    }
   ],
   "source": [
    "# t = TableExtractor()\n",
    "# t.resolve(table)\n",
    "m.resolve_single_table(1).values"
   ]
  },
  {
   "cell_type": "code",
   "execution_count": null,
   "metadata": {},
   "outputs": [],
   "source": []
  }
 ]
}