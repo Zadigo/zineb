{
 "metadata": {
  "language_info": {
   "codemirror_mode": {
    "name": "ipython",
    "version": 3
   },
   "file_extension": ".py",
   "mimetype": "text/x-python",
   "name": "python",
   "nbconvert_exporter": "python",
   "pygments_lexer": "ipython3",
   "version": "3.9.6"
  },
  "orig_nbformat": 2,
  "kernelspec": {
   "name": "python3",
   "display_name": "Python 3.9.6 64-bit"
  },
  "interpreter": {
   "hash": "067cb8d266241ed2d5a7605d38a6c52756d68e549b16125f60af993db4e342af"
  }
 },
 "nbformat": 4,
 "nbformat_minor": 2,
 "cells": [
  {
   "cell_type": "code",
   "execution_count": 1,
   "source": [
    "from zineb.http.request import XMLRequest"
   ],
   "outputs": [],
   "metadata": {}
  },
  {
   "cell_type": "code",
   "execution_count": 3,
   "source": [
    "r = XMLRequest('https://www.shein.com/sitemap-index.xml')\r\n",
    "r._send()"
   ],
   "outputs": [],
   "metadata": {}
  },
  {
   "cell_type": "code",
   "execution_count": 4,
   "source": [
    "r._http_response"
   ],
   "outputs": [
    {
     "output_type": "execute_result",
     "data": {
      "text/plain": [
       "'<?xml version=\"1.0\" encoding=\"UTF-8\"?>\\n\\n<sitemapindex xmlns=\"http://www.sitemaps.org/schemas/sitemap/0.9\">  \\n  <sitemap> \\n    <loc>https://www.shein.com/sitemap-category-sc.xml</loc>  \\n    <lastmod>2021-09-30</lastmod> \\n  </sitemap>  \\n  <sitemap> \\n    <loc>https://www.shein.com/sitemap-article.xml</loc>  \\n    <lastmod>2021-10-02</lastmod> \\n  </sitemap>  \\n  <sitemap> \\n    <loc>https://www.shein.com/sitemap-campaign.xml</loc>  \\n    <lastmod>2021-10-02</lastmod> \\n  </sitemap>  \\n  <sitemap> \\n    <loc>https://www.shein.com/sitemap-pages.xml</loc>  \\n    <lastmod>2021-10-02</lastmod> \\n  </sitemap>  \\n  <sitemap> \\n    <loc>https://www.shein.com/sitemap-category-sp.xml</loc>  \\n    <lastmod>2021-10-02</lastmod> \\n  </sitemap>  \\n  <sitemap> \\n    <loc>https://www.shein.com/sitemap-category-sets.xml</loc>  \\n    <lastmod>2021-10-02</lastmod> \\n  </sitemap>  \\n  <sitemap> \\n    <loc>https://www.shein.com/sitemap-category-c.xml</loc>  \\n    <lastmod>2021-10-02</lastmod> \\n  </sitemap>  \\n  <sitemap>\\n    <loc>https://www.shein.com/sitemap-products-1.xml</loc>\\n    <lastmod>2021-10-02</lastmod>\\n  </sitemap>\\n  <sitemap>\\n    <loc>https://www.shein.com/sitemap-products-2.xml</loc>\\n    <lastmod>2021-10-02</lastmod>\\n  </sitemap>\\n  <sitemap>\\n    <loc>https://www.shein.com/sitemap-products-3.xml</loc>\\n    <lastmod>2021-10-02</lastmod>\\n  </sitemap>\\n  <sitemap>\\n    <loc>https://www.shein.com/sitemap-products-4.xml</loc>\\n    <lastmod>2021-10-02</lastmod>\\n  </sitemap>\\n  <sitemap>\\n    <loc>https://www.shein.com/sitemap-products-5.xml</loc>\\n    <lastmod>2021-10-02</lastmod>\\n  </sitemap>\\n  <sitemap>\\n    <loc>https://www.shein.com/sitemap-products-6.xml</loc>\\n    <lastmod>2021-10-02</lastmod>\\n  </sitemap>\\n  <sitemap>\\n    <loc>https://www.shein.com/sitemap-products-7.xml</loc>\\n    <lastmod>2021-10-02</lastmod>\\n  </sitemap>\\n  <sitemap>\\n    <loc>https://www.shein.com/sitemap-products-8.xml</loc>\\n    <lastmod>2021-10-02</lastmod>\\n  </sitemap>\\n  <sitemap>\\n    <loc>https://www.shein.com/sitemap-products-9.xml</loc>\\n    <lastmod>2021-10-02</lastmod>\\n  </sitemap>\\n  <sitemap>\\n    <loc>https://www.shein.com/sitemap-products-10.xml</loc>\\n    <lastmod>2021-10-02</lastmod>\\n  </sitemap>\\n  <sitemap>\\n    <loc>https://www.shein.com/sitemap-products-11.xml</loc>\\n    <lastmod>2021-10-02</lastmod>\\n  </sitemap>\\n  <sitemap>\\n    <loc>https://www.shein.com/sitemap-products-12.xml</loc>\\n    <lastmod>2021-10-02</lastmod>\\n  </sitemap>\\n  <sitemap>\\n    <loc>https://www.shein.com/sitemap-products-13.xml</loc>\\n    <lastmod>2021-10-02</lastmod>\\n  </sitemap>\\n  <sitemap>\\n    <loc>https://www.shein.com/sitemap-products-14.xml</loc>\\n    <lastmod>2021-10-02</lastmod>\\n  </sitemap>\\n  <sitemap>\\n    <loc>https://www.shein.com/sitemap-products-15.xml</loc>\\n    <lastmod>2021-10-02</lastmod>\\n  </sitemap>\\n  <sitemap>\\n    <loc>https://www.shein.com/sitemap-products-16.xml</loc>\\n    <lastmod>2021-10-02</lastmod>\\n  </sitemap>\\n  <sitemap>\\n    <loc>https://www.shein.com/sitemap-products-17.xml</loc>\\n    <lastmod>2021-10-02</lastmod>\\n  </sitemap>\\n  <sitemap>\\n    <loc>https://www.shein.com/sitemap-products-18.xml</loc>\\n    <lastmod>2021-10-02</lastmod>\\n  </sitemap>\\n  <sitemap>\\n    <loc>https://www.shein.com/sitemap-products-19.xml</loc>\\n    <lastmod>2021-10-02</lastmod>\\n  </sitemap>\\n  <sitemap>\\n    <loc>https://www.shein.com/sitemap-products-20.xml</loc>\\n    <lastmod>2021-10-02</lastmod>\\n  </sitemap>\\n  <sitemap>\\n    <loc>https://www.shein.com/sitemap-products-21.xml</loc>\\n    <lastmod>2021-10-02</lastmod>\\n  </sitemap>\\n  <sitemap>\\n    <loc>https://www.shein.com/sitemap-products-22.xml</loc>\\n    <lastmod>2021-10-02</lastmod>\\n  </sitemap>\\n  <sitemap>\\n    <loc>https://www.shein.com/sitemap-products-23.xml</loc>\\n    <lastmod>2021-10-02</lastmod>\\n  </sitemap>\\n  <sitemap>\\n    <loc>https://www.shein.com/sitemap-products-24.xml</loc>\\n    <lastmod>2021-10-02</lastmod>\\n  </sitemap>\\n  <sitemap>\\n    <loc>https://www.shein.com/sitemap-products-25.xml</loc>\\n    <lastmod>2021-10-02</lastmod>\\n  </sitemap>\\n  <sitemap>\\n    <loc>https://www.shein.com/sitemap-products-26.xml</loc>\\n    <lastmod>2021-10-02</lastmod>\\n  </sitemap>\\n  <sitemap>\\n    <loc>https://www.shein.com/sitemap-products-27.xml</loc>\\n    <lastmod>2021-10-02</lastmod>\\n  </sitemap>\\n  <sitemap>\\n    <loc>https://www.shein.com/sitemap-products-28.xml</loc>\\n    <lastmod>2021-10-02</lastmod>\\n  </sitemap>\\n  <sitemap>\\n    <loc>https://www.shein.com/sitemap-products-29.xml</loc>\\n    <lastmod>2021-10-02</lastmod>\\n  </sitemap>\\n  <sitemap>\\n    <loc>https://www.shein.com/sitemap-products-30.xml</loc>\\n    <lastmod>2021-10-02</lastmod>\\n  </sitemap>\\n  <sitemap>\\n    <loc>https://www.shein.com/sitemap-products-31.xml</loc>\\n    <lastmod>2021-10-02</lastmod>\\n  </sitemap>\\n  <sitemap>\\n    <loc>https://www.shein.com/sitemap-products-32.xml</loc>\\n    <lastmod>2021-10-02</lastmod>\\n  </sitemap>\\n  <sitemap>\\n    <loc>https://www.shein.com/sitemap-products-33.xml</loc>\\n    <lastmod>2021-10-02</lastmod>\\n  </sitemap>\\n  <sitemap>\\n    <loc>https://www.shein.com/sitemap-products-34.xml</loc>\\n    <lastmod>2021-10-02</lastmod>\\n  </sitemap>\\n  <sitemap>\\n    <loc>https://www.shein.com/sitemap-products-35.xml</loc>\\n    <lastmod>2021-10-02</lastmod>\\n  </sitemap>\\n  <sitemap>\\n    <loc>https://www.shein.com/sitemap-products-36.xml</loc>\\n    <lastmod>2021-10-02</lastmod>\\n  </sitemap>\\n  <sitemap>\\n    <loc>https://www.shein.com/sitemap-products-37.xml</loc>\\n    <lastmod>2021-10-02</lastmod>\\n  </sitemap>\\n  <sitemap>\\n    <loc>https://www.shein.com/sitemap-products-38.xml</loc>\\n    <lastmod>2021-10-02</lastmod>\\n  </sitemap>\\n  <sitemap>\\n    <loc>https://www.shein.com/sitemap-products-39.xml</loc>\\n    <lastmod>2021-10-02</lastmod>\\n  </sitemap>\\n  <sitemap>\\n    <loc>https://www.shein.com/sitemap-products-40.xml</loc>\\n    <lastmod>2021-10-02</lastmod>\\n  </sitemap>\\n  <sitemap>\\n    <loc>https://www.shein.com/sitemap-products-41.xml</loc>\\n    <lastmod>2021-10-02</lastmod>\\n  </sitemap>\\n  <sitemap>\\n    <loc>https://www.shein.com/sitemap-products-42.xml</loc>\\n    <lastmod>2021-10-02</lastmod>\\n  </sitemap>\\n  <sitemap>\\n    <loc>https://www.shein.com/sitemap-products-43.xml</loc>\\n    <lastmod>2021-10-02</lastmod>\\n  </sitemap>\\n  <sitemap>\\n    <loc>https://www.shein.com/sitemap-products-44.xml</loc>\\n    <lastmod>2021-10-02</lastmod>\\n  </sitemap>\\n  <sitemap>\\n    <loc>https://www.shein.com/sitemap-products-45.xml</loc>\\n    <lastmod>2021-10-02</lastmod>\\n  </sitemap>\\n  <sitemap>\\n    <loc>https://www.shein.com/sitemap-products-46.xml</loc>\\n    <lastmod>2021-10-02</lastmod>\\n  </sitemap>\\n  <sitemap>\\n    <loc>https://www.shein.com/sitemap-products-47.xml</loc>\\n    <lastmod>2021-10-02</lastmod>\\n  </sitemap>\\n  <sitemap>\\n    <loc>https://www.shein.com/sitemap-products-48.xml</loc>\\n    <lastmod>2021-10-02</lastmod>\\n  </sitemap>\\n  <sitemap>\\n    <loc>https://www.shein.com/sitemap-products-49.xml</loc>\\n    <lastmod>2021-10-02</lastmod>\\n  </sitemap>\\n  <sitemap>\\n    <loc>https://www.shein.com/sitemap-products-50.xml</loc>\\n    <lastmod>2021-10-02</lastmod>\\n  </sitemap>\\n  <sitemap>\\n    <loc>https://www.shein.com/sitemap-products-51.xml</loc>\\n    <lastmod>2021-10-02</lastmod>\\n  </sitemap>\\n  <sitemap>\\n    <loc>https://www.shein.com/sitemap-products-52.xml</loc>\\n    <lastmod>2021-10-02</lastmod>\\n  </sitemap>\\n  <sitemap>\\n    <loc>https://www.shein.com/sitemap-products-53.xml</loc>\\n    <lastmod>2021-10-02</lastmod>\\n  </sitemap>\\n  <sitemap>\\n    <loc>https://www.shein.com/sitemap-products-54.xml</loc>\\n    <lastmod>2021-10-02</lastmod>\\n  </sitemap>\\n  <sitemap>\\n    <loc>https://www.shein.com/sitemap-products-55.xml</loc>\\n    <lastmod>2021-10-02</lastmod>\\n  </sitemap>\\n  <sitemap>\\n    <loc>https://www.shein.com/sitemap-products-56.xml</loc>\\n    <lastmod>2021-10-02</lastmod>\\n  </sitemap>\\n  <sitemap>\\n    <loc>https://www.shein.com/sitemap-products-57.xml</loc>\\n    <lastmod>2021-10-02</lastmod>\\n  </sitemap>\\n  <sitemap>\\n    <loc>https://www.shein.com/sitemap-products-58.xml</loc>\\n    <lastmod>2021-10-02</lastmod>\\n  </sitemap>\\n</sitemapindex>\\n'"
      ]
     },
     "metadata": {},
     "execution_count": 4
    }
   ],
   "metadata": {}
  }
 ]
}