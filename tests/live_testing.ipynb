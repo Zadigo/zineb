{
 "cells": [
  {
   "cell_type": "code",
   "execution_count": 5,
   "metadata": {},
   "outputs": [
    {
     "name": "stdout",
     "output_type": "stream",
     "text": [
      "1635248836.496429\n"
     ]
    }
   ],
   "source": [
    "import datetime\n",
    "\n",
    "def int_to_base36(i):\n",
    "    char_set = '0123456789abcdefghijklmnopqrstuvwxyz'\n",
    "    if i < 0:\n",
    "        raise ValueError(\"Negative base36 conversion input.\")\n",
    "    if i < 36:\n",
    "        return char_set[i]\n",
    "    b36 = ''\n",
    "    while i != 0:\n",
    "        i, n = divmod(i, 36)\n",
    "        b36 = char_set[n] + b36\n",
    "    return b36\n",
    "\n",
    "\n",
    "t = datetime.datetime.now().timestamp()\n",
    "int_to_base36(t)\n",
    "print(t)\n"
   ]
  }
 ],
 "metadata": {
  "interpreter": {
   "hash": "a0bd6618edf0d14bd6f3961f5ce864ba9026d0b90c30defed834a200c37c8344"
  },
  "kernelspec": {
   "display_name": "Python 3.10.0 64-bit",
   "name": "python3"
  },
  "language_info": {
   "codemirror_mode": {
    "name": "ipython",
    "version": 3
   },
   "file_extension": ".py",
   "mimetype": "text/x-python",
   "name": "python",
   "nbconvert_exporter": "python",
   "pygments_lexer": "ipython3",
   "version": "3.10.0"
  },
  "orig_nbformat": 2
 },
 "nbformat": 4,
 "nbformat_minor": 2
}
